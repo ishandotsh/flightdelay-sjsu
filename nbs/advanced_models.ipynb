{
 "cells": [
  {
   "cell_type": "markdown",
   "metadata": {},
   "source": [
    "# Advanced Flight Delay Prediction Models\n",
    "\n",
    "## Objective\n",
    "Explore and compare advanced machine learning models for flight delay prediction"
   ]
  },
  {
   "cell_type": "code",
   "execution_count": null,
   "metadata": {},
   "source": [
    "import pandas as pd\n",
    "import numpy as np\n",
    "from sklearn.model_selection import train_test_split\n",
    "from sklearn.preprocessing import StandardScaler, OneHotEncoder\n",
    "from sklearn.compose import ColumnTransformer\n",
    "from sklearn.pipeline import Pipeline\n",
    "from sklearn.neighbors import KNeighborsClassifier\n",
    "from sklearn.tree import DecisionTreeClassifier\n",
    "from sklearn.metrics import classification_report, confusion_matrix\n",
    "from category_encoders import BinaryEncoder\n",
    "import matplotlib.pyplot as plt\n",
    "import seaborn as sns"
   ]
  },
  {
   "cell_type": "code",
   "execution_count": null,
   "metadata": {},
   "source": [
    "# Load data function\n",
    "def load():\n",
    "    df = pd.read_csv('../data/Airlines_updated.csv')\n",
    "    return df\n",
    "\n",
    "# Data splitting function\n",
    "def get_split(df):\n",
    "    # Separate features and target\n",
    "    X = df.drop('Delay', axis=1)\n",
    "    y = df['Delay']\n",
    "    \n",
    "    # Split the data\n",
    "    X_train, X_test, y_train, y_test = train_test_split(\n",
    "        X, y, test_size=0.2, random_state=42\n",
    "    )\n",
    "    \n",
    "    return X_train, X_test, y_train, y_test"
   ]
  },
  {
   "cell_type": "code",
   "execution_count": null,
   "metadata": {},
   "source": [
    "# Load and prepare data\n",
    "df = load()\n",
    "X_train, X_test, y_train, y_test = get_split(df)\n",
    "\n",
    "# Define column types\n",
    "cat_cols = ['Airline', 'AirportFrom', 'AirportTo', 'Route', 'DayOfWeek']\n",
    "num_cols = [c for c in X_train.columns if c not in cat_cols]"
   ]
  },
  {
   "cell_type": "code",
   "execution_count": null,
   "metadata": {},
   "source": [
    "# Preprocessing pipeline\n",
    "preprocessor = ColumnTransformer([\n",
    "    (\"num\", StandardScaler(), num_cols),\n",
    "    (\"cat\", BinaryEncoder(), cat_cols)\n",
    "])\n",
    "\n",
    "# KNN Model\n",
    "knn_pipe = Pipeline([\n",
    "    (\"pre\", preprocessor),\n",
    "    (\"knn\", KNeighborsClassifier(n_neighbors=5, weights='distance'))\n",
    "])\n",
    "\n",
    "# Decision Tree Model\n",
    "dt_pipe = Pipeline([\n",
    "    (\"pre\", preprocessor),\n",
    "    (\"dt\", DecisionTreeClassifier(max_depth=10, random_state=42))\n",
    "])"
   ]
  },
  {
   "cell_type": "code",
   "execution_count": null,
   "metadata": {},
   "source": [
    "# Train and evaluate KNN\n",
    "knn_pipe.fit(X_train, y_train)\n",
    "knn_pred = knn_pipe.predict(X_test)\n",
    "knn_prob = knn_pipe.predict_proba(X_test)\n",
    "\n",
    "print(\"KNN Classification Report:\")\n",
    "print(classification_report(y_test, knn_pred))\n",
    "\n",
    "# Train and evaluate Decision Tree\n",
    "dt_pipe.fit(X_train, y_train)\n",
    "dt_pred = dt_pipe.predict(X_test)\n",
    "dt_prob = dt_pipe.predict_proba(X_test)\n",
    "\n",
    "print(\"\\nDecision Tree Classification Report:\")\n",
    "print(classification_report(y_test, dt_pred))"
   ]
  },
  {
   "cell_type": "code",
   "execution_count": null,
   "metadata": {},
   "source": [
    "# Visualization of Probability Distributions\n",
    "plt.figure(figsize=(12, 5))\n",
    "\n",
    "plt.subplot(1, 2, 1)\n",
    "plt.title(\"KNN Delay Probability Distribution\")\n",
    "plt.hist(knn_prob[:, 1], bins=20, alpha=0.7)\n",
    "plt.xlabel(\"Probability of Delay\")\n",
    "plt.ylabel(\"Frequency\")\n",
    "\n",
    "plt.subplot(1, 2, 2)\n",
    "plt.title(\"Decision Tree Delay Probability Distribution\")\n",
    "plt.hist(dt_prob[:, 1], bins=20, alpha=0.7)\n",
    "plt.xlabel(\"Probability of Delay\")\n",
    "plt.ylabel(\"Frequency\")\n",
    "\n",
    "plt.tight_layout()\n",
    "plt.savefig('../visualizations/delay_prob_distributions.png')"
   ]
  }
 ],
 "metadata": {
  "kernelspec": {
   "display_name": "Python 3",
   "language": "python",
   "name": "python3"
  }
 },
 "nbformat": 4,
 "nbformat_minor": 2
}
