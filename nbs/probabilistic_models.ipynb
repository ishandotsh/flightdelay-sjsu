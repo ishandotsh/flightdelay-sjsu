{
 "cells": [
  {
   "cell_type": "markdown",
   "metadata": {},
   "source": [
    "# Probabilistic Flight Delay Classification Models"
   ]
  },
  {
   "cell_type": "code",
   "execution_count": null,
   "metadata": {},
   "outputs": [],
   "source": [
    "import pandas as pd\n",
    "import numpy as np\n",
    "from sklearn.model_selection import train_test_split\n",
    "from sklearn.preprocessing import StandardScaler\n",
    "from sklearn.pipeline import Pipeline\n",
    "from sklearn.compose import ColumnTransformer\n",
    "from category_encoders import BinaryEncoder\n",
    "from sklearn.neighbors import KNeighborsClassifier\n",
    "from sklearn.tree import DecisionTreeClassifier\n",
    "from sklearn.metrics import classification_report, confusion_matrix, roc_auc_score"
   ]
  },
  {
   "cell_type": "code",
   "execution_count": null,
   "metadata": {},
   "outputs": [],
   "source": [
    "# Load data functions\n",
    "def load():\n",
    "    # Implement data loading\n",
    "    pass\n",
    "\n",
    "def get_split(df):\n",
    "    # Implement data splitting\n",
    "    pass"
   ]
  },
  {
   "cell_type": "code",
   "execution_count": null,
   "metadata": {},
   "outputs": [],
   "source": [
    "# Preprocessing configuration\n",
    "cat_cols = ['Airline', 'AirportFrom', 'AirportTo', 'Route', 'DayOfWeek']\n",
    "num_cols = ['Flight', 'Time', 'Length', 'Airline_DelayRate', 'Route_AvgDelay']\n",
    "\n",
    "preprocessor = ColumnTransformer([\n",
    "    (\"num\", StandardScaler(), num_cols),\n",
    "    (\"cat\", BinaryEncoder(), cat_cols)\n",
    "])"
   ]
  },
  {
   "cell_type": "code",
   "execution_count": null,
   "metadata": {},
   "outputs": [],
   "source": [
    "# KNN Model\n",
    "knn_pipe = Pipeline([\n",
    "    (\"pre\", preprocessor),\n",
    "    (\"knn\", KNeighborsClassifier(\n",
    "        n_neighbors=5, \n",
    "        weights='distance',  # Weight by distance for probabilistic output\n",
    "        algorithm='auto'\n",
    "    ))\n",
    "])\n",
    "\n",
    "# Decision Tree Model\n",
    "dt_pipe = Pipeline([\n",
    "    (\"pre\", preprocessor),\n",
    "    (\"dt\", DecisionTreeClassifier(\n",
    "        max_depth=10,\n",
    "        min_samples_split=50,\n",
    "        min_samples_leaf=20,\n",
    "        class_weight='balanced'\n",
    "    ))\n",
    "])"
   ]
  },
  {
   "cell_type": "code",
   "execution_count": null,
   "metadata": {},
   "outputs": [],
   "source": [
    "def evaluate_model(pipe, X_test, y_test):\n",
    "    y_pred = pipe.predict(X_test)\n",
    "    y_prob = pipe.predict_proba(X_test)[:, 1]\n",
    "    \n",
    "    print(\"Classification Report:\")\n",
    "    print(classification_report(y_test, y_pred))\n",
    "    \n",
    "    print(\"\\nROC AUC Score:\")\n",
    "    print(roc_auc_score(y_test, y_prob))\n",
    "    \n",
    "    return pipe"
   ]
  },
  {
   "cell_type": "code",
   "execution_count": null,
   "metadata": {},
   "outputs": [],
   "source": [
    "# Training and Evaluation\n",
    "df = load()\n",
    "X_train, X_test, y_train, y_test = get_split(df)\n",
    "\n",
    "# Train and evaluate KNN\n",
    "knn_model = knn_pipe.fit(X_train, y_train)\n",
    "best_knn = evaluate_model(knn_model, X_test, y_test)\n",
    "\n",
    "# Train and evaluate Decision Tree\n",
    "dt_model = dt_pipe.fit(X_train, y_train)\n",
    "best_dt = evaluate_model(dt_model, X_test, y_test)"
   ]
  }
 ],
 "metadata": {
  "kernelspec": {
   "display_name": "Python 3",
   "language": "python",
   "name": "python3"
  }
 },
 "nbformat": 4,
 "nbformat_minor": 2
}
